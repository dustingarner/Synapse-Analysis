{
 "cells": [
  {
   "cell_type": "markdown",
   "metadata": {},
   "source": [
    "# The FrameworkClient\n",
    "\n",
    "The FrameworkClient is a client side library to allow easy interaction with the services within CAVE (connectome annotation versioning engine, also known as Dynamic Annotation Framework), eg. the annotations, stateserver. The github repository is public:\n",
    "https://github.com/seung-lab/AnnotationFrameworkClient\n",
    "\n",
    "The library can be installed directly from the github repository or from the prebuilt versions using pip:\n",
    "```\n",
    "pip install annotationframeworkclient\n",
    "```\n",
    "\n",
    "\n",
    "## Tutorials\n",
    "\n",
    "This tutorial mainly covers the interactions with the materialized annotation tables. More information and better explanations of the other functionalities of the client can be found in the following tutorial. Please be advised that depending on your permission level you may not be able to execute all queries in this tutorial with the preset parameters as it was written with defaults for iarpa's microns project:\n",
    "https://github.com/seung-lab/AnnotationFrameworkClient/blob/master/FrameworkClientExamples.ipynb\n",
    "\n",
    "\n",
    "## Authentication & Authorization\n",
    "\n",
    "If this is your first time to interact with any part of CAVE, chances are you need to setup your local credentials for your FlyWire account first. Please follow the section \"Setting up your credentials\" at the beginning of the tutorial above to do so.\n",
    "\n",
    "You will need to have access to the FlyWire's production dataset to retrieve annotations. Otherwise you will see\n",
    "\n",
    "```HTTPError: 403 Client Error: FORBIDDEN for url```\n",
    "\n",
    "errors upon querying the materialization server."
   ]
  },
  {
   "cell_type": "markdown",
   "metadata": {},
   "source": [
    "## Initialize FrameworkClient\n",
    "\n",
    "The FrameworkClient is instantiated with a datastack name. A datastack is a set of segmentation, and annotation tables and lives within an aligned volume (the coordinate space). FlyWire's main datastack is `flywire_fafb_production`, the aligned volume is `fafb_seung_alignment_v0` (v14.1). For convenience, there are other defaults set on the datastack level."
   ]
  },
  {
   "cell_type": "code",
   "execution_count": 1,
   "metadata": {},
   "outputs": [],
   "source": [
    "import numpy as np\n",
    "from annotationframeworkclient import FrameworkClient"
   ]
  },
  {
   "cell_type": "code",
   "execution_count": 2,
   "metadata": {},
   "outputs": [],
   "source": [
    "datastack_name = \"flywire_fafb_production\"\n",
    "client = FrameworkClient(datastack_name)"
   ]
  },
  {
   "cell_type": "markdown",
   "metadata": {},
   "source": [
    "## Annotation tables\n",
    "\n",
    "Annotations are represented by points in space and parameters (such as size, type). At specific timepoints, annotations are combined with the (proofread) segmentation to create a materialized version of the annotation table. The AnnotationEngine (`client.annotation`) owns the raw annotations and the Materialization Service (`client.materialize`) owns the materialized versions of these tables. \n",
    "\n",
    "To check what annotation tables are visible to you run"
   ]
  },
  {
   "cell_type": "code",
   "execution_count": 3,
   "metadata": {},
   "outputs": [
    {
     "name": "stdout",
     "output_type": "stream",
     "text": [
      "https://prod.flywire-daf.com/annotation/api/v2/aligned_volume/fafb_seung_alignment_v0/table\n"
     ]
    },
    {
     "data": {
      "text/plain": [
       "['synapses_nt_v1']"
      ]
     },
     "execution_count": 3,
     "metadata": {},
     "output_type": "execute_result"
    }
   ],
   "source": [
    "client.annotation.get_tables()"
   ]
  },
  {
   "cell_type": "markdown",
   "metadata": {},
   "source": [
    "Every table has metadata associated with it which includes information about the owner/creator, a description and a schema that annotations in this table follow. Please review the metadata of any table you might use in the future before using it as it might contain instructions and restrictions for its usage and how to credit it's creators. For instance, the (v1) synapse table (`synapses_nt_v1`) includes an extensive description on all its columns, credits people that created it, contains instructions for citing this resource among others:"
   ]
  },
  {
   "cell_type": "code",
   "execution_count": 4,
   "metadata": {},
   "outputs": [
    {
     "name": "stdout",
     "output_type": "stream",
     "text": [
      "FlyWire synapse description\r\n",
      "Synapse version: 20191211\r\n",
      "NT version: 20201223\r\n",
      "\r\n",
      "Synapses in this table consist of a pre- and a postsynaptic point (in nm), confidence scores, and neurotransmitter information. \r\n",
      "The synapses were predicted by Buhmann et al [1] for the v14 alignment of the FAFB dataset. The FlyWire team remapped these synapses into the v14.1 space used by FlyWire with an accuracy of <64nm (therefore, this is a potential source of error). This version of the Buhmann et al. synapses was trained on the initial training set from the calyx and performance varies across brain areas accordingly.\r\n",
      "Buhmann et al. assigned two scores to their synapses representing different measurements of confidence. The “connection_score” column contains the scores assigned by them during prediction (higher is more confident) and “cleft_score” contains the scores acquired by Buhmann et al. by using the synapse segmentation from Heinrich et al. [2] (higher is more confident). For the latter, Buhmann et al. found the highest value in Heinrich et al.’s segmentation along the line between the pre- and postsynaptic point for each synapse. This represents an individual assessment of the validity of each synapse because Buhmann et al. found synapses without using the segmentation by Heinrich et al.. Buhmann et al. suggested using the product of both scores, others found that the “cleft_score” alone with a threshold of 50-100 to be a good filter. We suggest validating analyses with various thresholds.\r\n",
      "Some synapses were (falsely) annotated multiple times. We found that most of these can be fixed by merging synapses between the same partners that are <150nm apart on the presynaptic side. The threshold might vary for different cell types and again we suggest validating analyses with various thresholds.\r\n",
      "Eckstein et al. [3] developed a classifier to predict probabilities for each of six neurotransmitters for each synapse (sum to 1, Dopamine (DA), Acetylcholine (ACh), Glutamate (Glut), Octopamine (OCT), Serotonin (SER), Gabaergic (GABA)). Davi Bock, Gregory Jefferis and Eric Perlman contributed infrastructure to run their classifier on all synapses from Buhmann et al. . For some synapses (<20k) no neurotransmitter information could be acquired. Probabilities for these have been set to all 0. Additionally, the “valid_nt” column can be used to filter these out (False=no neurotransmitter information available). Improving this classifier through the acquisition of additional ground truth is actively worked on. The classifications of ACh, GABA and Glu appear to be more robust than DA, OCT and SER in this version. Additionally, there was little training data from the optic lobe and results are more robust in the central brain. \r\n",
      "\r\n",
      "For any use of these synapses in a study, please cite Buhmann et al. [1]. For using the “cleft_score” please also cite Heinrich et al. [2]. When including the neurotransmitter information please also cite Eckstein et al. [3].\r\n",
      "\r\n",
      "The prediction and dissemination of the neurotransmitter information was supported by NIH BRAIN Initiative (grant 1RF1MH120679-01); additional work including assembling ground truth data was also supported by Wellcome trust (203261/Z/16/Z). \r\n",
      "\r\n",
      "[1] Julia Buhmann, Arlo Sheridan, Stephan Gerhard, Renate Krause, Tri Nguyen, Larissa Heinrich, Philipp Schlegel, Wei-Chung Allen Lee, Rachel Wilson, Stephan Saalfeld, Gregory Jefferis, Davi Bock, Srinivas Turaga, Matthew Cook, Jan Funke. 2019. “Automatic Detection of Synaptic Partners in a Whole-Brain Drosophila EM Dataset”. bioRxiv\r\n",
      "[2] Heinrich L., Funke J., Pape C., Nunez-Iglesias J., Saalfeld S. 2018. “Synaptic Cleft Segmentation in Non-isotropic Volume Electron Microscopy of the Complete Drosophila Brain”. MICCAI 2018. Lecture Notes in Computer Science, vol 11071. Springer\r\n",
      "[3] Nils Eckstein, Alexander S. Bates, Michelle Du, Volker Hartenstein, Gregory S.X.E. Jefferis, Jan Funke. 2020. “Neurotransmitter Classification from Electron Microscopy Images at Synaptic Sites in Drosophila”. bioRxiv\r\n",
      "\n"
     ]
    }
   ],
   "source": [
    "meta_data = client.annotation.get_table_metadata(\"synapses_nt_v1\")\n",
    "print(meta_data[\"description\"])"
   ]
  },
  {
   "cell_type": "markdown",
   "metadata": {},
   "source": [
    "The meta data contains information about the schema which ultimately determines how annotations in a table are structured. All annotations in a table follow the same schema. The synapse table follows the `fly_nt_synapse` schema:"
   ]
  },
  {
   "cell_type": "code",
   "execution_count": 5,
   "metadata": {},
   "outputs": [
    {
     "data": {
      "text/plain": [
       "'fly_nt_synapse'"
      ]
     },
     "execution_count": 5,
     "metadata": {},
     "output_type": "execute_result"
    }
   ],
   "source": [
    "meta_data[\"schema_type\"]"
   ]
  },
  {
   "cell_type": "markdown",
   "metadata": {},
   "source": [
    "## Materialized annotation tables & Queries"
   ]
  },
  {
   "cell_type": "markdown",
   "metadata": {},
   "source": [
    "```\n",
    "materialization = annotation + segmentation snapshot\n",
    "```\n",
    "\n",
    "As the segmentation and annotations change over time, we need to create snapshots of a combined view of them (materialized versions). Materialized versions of the annotation tables are (automatically) generated at a certain frequency. In addition to that, we are planning to include an option to retrieve any timestamp since the latest materialization (\"live\") but that is not available at the moment. \n",
    "\n",
    "There are usually a number of materialized versions available at the same time:"
   ]
  },
  {
   "cell_type": "code",
   "execution_count": 6,
   "metadata": {},
   "outputs": [
    {
     "data": {
      "text/plain": [
       "[15, 16, 17, 18, 19, 20, 22, 26, 27]"
      ]
     },
     "execution_count": 6,
     "metadata": {},
     "output_type": "execute_result"
    }
   ],
   "source": [
    "client.materialize.get_versions()"
   ]
  },
  {
   "cell_type": "markdown",
   "metadata": {},
   "source": [
    "Each version comes with meta data about the time when it was created and when it will be deleted (expired). Different tables have different lifetimes and some may be LTS versions. The exact frequency and lifetime of tables will depend on how the community is using these tables. "
   ]
  },
  {
   "cell_type": "code",
   "execution_count": 10,
   "metadata": {},
   "outputs": [
    {
     "data": {
      "text/plain": [
       "{'time_stamp': '2021-04-19T08:10:00.253566',\n",
       " 'id': 15,\n",
       " 'datastack': 'flywire_fafb_production',\n",
       " 'valid': True,\n",
       " 'expires_on': '2021-04-26T08:10:00.253566',\n",
       " 'version': 27}"
      ]
     },
     "execution_count": 10,
     "metadata": {},
     "output_type": "execute_result"
    }
   ],
   "source": [
    "client.materialize.get_version_metadata(27)"
   ]
  },
  {
   "cell_type": "markdown",
   "metadata": {},
   "source": [
    "Each materialization version contains a set of annotation tables. At the moment all tables are included in a materialization but in the future we might not include all tables in every materialization:"
   ]
  },
  {
   "cell_type": "code",
   "execution_count": 12,
   "metadata": {},
   "outputs": [
    {
     "data": {
      "text/plain": [
       "['synapses_nt_v1']"
      ]
     },
     "execution_count": 12,
     "metadata": {},
     "output_type": "execute_result"
    }
   ],
   "source": [
    "client.materialize.get_tables(version=27)"
   ]
  },
  {
   "cell_type": "markdown",
   "metadata": {},
   "source": [
    "### Queries"
   ]
  },
  {
   "cell_type": "markdown",
   "metadata": {},
   "source": [
    "Here, we demonstrate some queries with the synapses from Buhmann et al..\n",
    "\n",
    "Each table in this list is stored as a SQL table on the backend. The client allows users to query these tables through the frontend of the Materialization Service conventiently without the need for SQL specific language. The client will format the results as pandas dataframes. Queries are restricted to a size of 200k rows to not overwhelm the server. Should a query result in a larger list of rows, only the first 200k are returned. For bulk downloads (eg. for data preservation before a publication) please contact us.\n",
    "\n",
    "To deomstrate this this query would pull the entire table but will only gather 200k rows (should take <2min). In the future, a warning will be raised in such cases but at the moment, the server silently cuts the query short."
   ]
  },
  {
   "cell_type": "code",
   "execution_count": 14,
   "metadata": {},
   "outputs": [
    {
     "name": "stderr",
     "output_type": "stream",
     "text": [
      "WARNING:root:201 - \"Limited query to 200000 rows\n"
     ]
    },
    {
     "name": "stdout",
     "output_type": "stream",
     "text": [
      "Wall time: 13 s\n"
     ]
    },
    {
     "data": {
      "text/plain": [
       "200000"
      ]
     },
     "execution_count": 14,
     "metadata": {},
     "output_type": "execute_result"
    }
   ],
   "source": [
    "%%time\n",
    "\n",
    "syn_df = client.materialize.query_table(\"synapses_nt_v1\", materialization_version=27)\n",
    "len(syn_df)"
   ]
  },
  {
   "cell_type": "markdown",
   "metadata": {},
   "source": [
    "Here, we set the materialization version specifically. If the materialization version is not specified, the query defaults to the most recent version.\n",
    "\n",
    "Let's take a brief look at the columns to illustrate how the materialization extends an annotation table:"
   ]
  },
  {
   "cell_type": "code",
   "execution_count": 15,
   "metadata": {},
   "outputs": [
    {
     "data": {
      "text/html": [
       "<div>\n",
       "<style scoped>\n",
       "    .dataframe tbody tr th:only-of-type {\n",
       "        vertical-align: middle;\n",
       "    }\n",
       "\n",
       "    .dataframe tbody tr th {\n",
       "        vertical-align: top;\n",
       "    }\n",
       "\n",
       "    .dataframe thead th {\n",
       "        text-align: right;\n",
       "    }\n",
       "</style>\n",
       "<table border=\"1\" class=\"dataframe\">\n",
       "  <thead>\n",
       "    <tr style=\"text-align: right;\">\n",
       "      <th></th>\n",
       "      <th>id</th>\n",
       "      <th>valid</th>\n",
       "      <th>pre_pt_supervoxel_id</th>\n",
       "      <th>pre_pt_root_id</th>\n",
       "      <th>post_pt_supervoxel_id</th>\n",
       "      <th>post_pt_root_id</th>\n",
       "      <th>connection_score</th>\n",
       "      <th>cleft_score</th>\n",
       "      <th>gaba</th>\n",
       "      <th>ach</th>\n",
       "      <th>glut</th>\n",
       "      <th>oct</th>\n",
       "      <th>ser</th>\n",
       "      <th>da</th>\n",
       "      <th>valid_nt</th>\n",
       "      <th>pre_pt_position</th>\n",
       "      <th>post_pt_position</th>\n",
       "    </tr>\n",
       "  </thead>\n",
       "  <tbody>\n",
       "    <tr>\n",
       "      <th>0</th>\n",
       "      <td>0</td>\n",
       "      <td>True</td>\n",
       "      <td>76916748439627068</td>\n",
       "      <td>720575940620535651</td>\n",
       "      <td>76916748439628340</td>\n",
       "      <td>720575940619047152</td>\n",
       "      <td>7.635252</td>\n",
       "      <td>0.0</td>\n",
       "      <td>0.248573</td>\n",
       "      <td>0.072179</td>\n",
       "      <td>0.057031</td>\n",
       "      <td>0.019089</td>\n",
       "      <td>0.112843</td>\n",
       "      <td>0.490285</td>\n",
       "      <td>True</td>\n",
       "      <td>[366196, 244760, 73920]</td>\n",
       "      <td>[366296, 244740, 73960]</td>\n",
       "    </tr>\n",
       "    <tr>\n",
       "      <th>1</th>\n",
       "      <td>1</td>\n",
       "      <td>True</td>\n",
       "      <td>76916748439635341</td>\n",
       "      <td>720575940620535651</td>\n",
       "      <td>76916748439614229</td>\n",
       "      <td>720575940616174657</td>\n",
       "      <td>15.259161</td>\n",
       "      <td>0.0</td>\n",
       "      <td>0.169801</td>\n",
       "      <td>0.312128</td>\n",
       "      <td>0.068937</td>\n",
       "      <td>0.044355</td>\n",
       "      <td>0.268214</td>\n",
       "      <td>0.136565</td>\n",
       "      <td>True</td>\n",
       "      <td>[364864, 245640, 73960]</td>\n",
       "      <td>[364708, 245588, 73960]</td>\n",
       "    </tr>\n",
       "    <tr>\n",
       "      <th>2</th>\n",
       "      <td>2</td>\n",
       "      <td>True</td>\n",
       "      <td>76916748439614229</td>\n",
       "      <td>720575940616174657</td>\n",
       "      <td>76916748439623112</td>\n",
       "      <td>720575940545890960</td>\n",
       "      <td>10.514650</td>\n",
       "      <td>0.0</td>\n",
       "      <td>0.616433</td>\n",
       "      <td>0.223582</td>\n",
       "      <td>0.047966</td>\n",
       "      <td>0.052839</td>\n",
       "      <td>0.028816</td>\n",
       "      <td>0.030364</td>\n",
       "      <td>True</td>\n",
       "      <td>[364564, 244904, 73960]</td>\n",
       "      <td>[364680, 244840, 74000]</td>\n",
       "    </tr>\n",
       "    <tr>\n",
       "      <th>3</th>\n",
       "      <td>3</td>\n",
       "      <td>True</td>\n",
       "      <td>76916748439632311</td>\n",
       "      <td>720575940620535651</td>\n",
       "      <td>76916748439633329</td>\n",
       "      <td>720575940627209594</td>\n",
       "      <td>71.585907</td>\n",
       "      <td>0.0</td>\n",
       "      <td>0.486084</td>\n",
       "      <td>0.209755</td>\n",
       "      <td>0.246938</td>\n",
       "      <td>0.000980</td>\n",
       "      <td>0.027569</td>\n",
       "      <td>0.028674</td>\n",
       "      <td>True</td>\n",
       "      <td>[364600, 244468, 74200]</td>\n",
       "      <td>[364552, 244344, 74200]</td>\n",
       "    </tr>\n",
       "    <tr>\n",
       "      <th>4</th>\n",
       "      <td>4</td>\n",
       "      <td>True</td>\n",
       "      <td>76916748439652476</td>\n",
       "      <td>720575940610019251</td>\n",
       "      <td>76916748439632348</td>\n",
       "      <td>720575940620535651</td>\n",
       "      <td>21.044254</td>\n",
       "      <td>0.0</td>\n",
       "      <td>0.338186</td>\n",
       "      <td>0.584693</td>\n",
       "      <td>0.027468</td>\n",
       "      <td>0.000612</td>\n",
       "      <td>0.023012</td>\n",
       "      <td>0.026030</td>\n",
       "      <td>True</td>\n",
       "      <td>[364952, 244764, 74240]</td>\n",
       "      <td>[364860, 244796, 74200]</td>\n",
       "    </tr>\n",
       "  </tbody>\n",
       "</table>\n",
       "</div>"
      ],
      "text/plain": [
       "   id  valid  pre_pt_supervoxel_id      pre_pt_root_id  post_pt_supervoxel_id  \\\n",
       "0   0   True     76916748439627068  720575940620535651      76916748439628340   \n",
       "1   1   True     76916748439635341  720575940620535651      76916748439614229   \n",
       "2   2   True     76916748439614229  720575940616174657      76916748439623112   \n",
       "3   3   True     76916748439632311  720575940620535651      76916748439633329   \n",
       "4   4   True     76916748439652476  720575940610019251      76916748439632348   \n",
       "\n",
       "      post_pt_root_id  connection_score  cleft_score      gaba       ach  \\\n",
       "0  720575940619047152          7.635252          0.0  0.248573  0.072179   \n",
       "1  720575940616174657         15.259161          0.0  0.169801  0.312128   \n",
       "2  720575940545890960         10.514650          0.0  0.616433  0.223582   \n",
       "3  720575940627209594         71.585907          0.0  0.486084  0.209755   \n",
       "4  720575940620535651         21.044254          0.0  0.338186  0.584693   \n",
       "\n",
       "       glut       oct       ser        da  valid_nt          pre_pt_position  \\\n",
       "0  0.057031  0.019089  0.112843  0.490285      True  [366196, 244760, 73920]   \n",
       "1  0.068937  0.044355  0.268214  0.136565      True  [364864, 245640, 73960]   \n",
       "2  0.047966  0.052839  0.028816  0.030364      True  [364564, 244904, 73960]   \n",
       "3  0.246938  0.000980  0.027569  0.028674      True  [364600, 244468, 74200]   \n",
       "4  0.027468  0.000612  0.023012  0.026030      True  [364952, 244764, 74240]   \n",
       "\n",
       "          post_pt_position  \n",
       "0  [366296, 244740, 73960]  \n",
       "1  [364708, 245588, 73960]  \n",
       "2  [364680, 244840, 74000]  \n",
       "3  [364552, 244344, 74200]  \n",
       "4  [364860, 244796, 74200]  "
      ]
     },
     "execution_count": 15,
     "metadata": {},
     "output_type": "execute_result"
    }
   ],
   "source": [
    "syn_df.head()"
   ]
  },
  {
   "cell_type": "markdown",
   "metadata": {},
   "source": [
    "Annotations consist of parameters and spatial points. Some or all of these spatial points are what we call \"BoundSpatialPoints\". These are linked to the segmentation during materialization. The synapse tables have two such points (`pre_pt`, `post_pt`). Per point there are three columns: `*_position`, `*_supervoxel_id`, `*_root_id`. Supervoxels are the small atomic segments, and root ids describe large components (neurons) consisting of many supervoxels. A root id always refers to the same version of a neuron and represents a snapshot in time in its own right. For a given annotation id (`id`), all but the `*_root_id` columns stay constant between materializations. "
   ]
  },
  {
   "cell_type": "markdown",
   "metadata": {},
   "source": [
    "`query_table` has three parameters to define filters: filter_in_dict, filter_out_dict, filter_equal_dict. More options will be added. This can be used to query synapses between any lists of neurons. For instance, to query the outgoing synapses of an AMMC-B1 neuron we included in the FlyWire paper:\n",
    "(see the next section for how to come up with a specific root id)"
   ]
  },
  {
   "cell_type": "code",
   "execution_count": 17,
   "metadata": {},
   "outputs": [
    {
     "name": "stdout",
     "output_type": "stream",
     "text": [
      "CPU times: user 79.2 ms, sys: 12.6 ms, total: 91.8 ms\n",
      "Wall time: 6.22 s\n"
     ]
    }
   ],
   "source": [
    "%%time\n",
    "\n",
    "syn_df = client.materialize.query_table(\"synapses_nt_v1\", materialization_version=15,\n",
    "                                        filter_in_dict={\"pre_pt_root_id\": [720575940627197566]})"
   ]
  },
  {
   "cell_type": "markdown",
   "metadata": {},
   "source": [
    "As described in the metadata above, we suggest filtering the synapse table using the `cleft_score` and `connection_score`. Tuning these will help to reduce the number of false positive synapses in the list. The best threshold(s) will depend on the specific neurons included in the analysis. Here we will just remove all synapses with a `cleft_score < 50`."
   ]
  },
  {
   "cell_type": "code",
   "execution_count": 16,
   "metadata": {},
   "outputs": [],
   "source": [
    "syn_df = syn_df[syn_df[\"cleft_score\"] >= 50]"
   ]
  },
  {
   "cell_type": "markdown",
   "metadata": {},
   "source": [
    "Some postsynaptic partners have a 0 id. Many of these are due to the synapse prediction covering a bigger space than the segmentation. Here, we remove these along with synapses onto itself as we are confident that this cell does not make autapses."
   ]
  },
  {
   "cell_type": "code",
   "execution_count": 17,
   "metadata": {},
   "outputs": [],
   "source": [
    "syn_df = syn_df[syn_df[\"pre_pt_root_id\"] != syn_df[\"post_pt_root_id\"]]\n",
    "syn_df = syn_df[syn_df[\"post_pt_root_id\"] != 0]"
   ]
  },
  {
   "cell_type": "markdown",
   "metadata": {},
   "source": [
    "This synapse table comes with neurotransmitter prediction from the work of Eckstein et al.. Please review the description in the metadata to understand the caveats of this data with regards your analysis. Here, we just look at the mean of the probablities of all outgoing synapses which shows that this neuron's neurotransmitter is very likely acetylcholine."
   ]
  },
  {
   "cell_type": "code",
   "execution_count": 18,
   "metadata": {},
   "outputs": [
    {
     "data": {
      "text/plain": [
       "gaba    0.185471\n",
       "ach     0.459503\n",
       "glut    0.203313\n",
       "oct     0.006671\n",
       "ser     0.043023\n",
       "da      0.102020\n",
       "dtype: float64"
      ]
     },
     "execution_count": 18,
     "metadata": {},
     "output_type": "execute_result"
    }
   ],
   "source": [
    "np.mean(syn_df[[\"gaba\", \"ach\", \"glut\", \"oct\", \"ser\", \"da\"]])"
   ]
  },
  {
   "cell_type": "markdown",
   "metadata": {},
   "source": [
    "Here we take a brief look at the postsynaptic partners and sorting them by number of synapses; displaying the top 10:"
   ]
  },
  {
   "cell_type": "code",
   "execution_count": 19,
   "metadata": {},
   "outputs": [
    {
     "data": {
      "text/plain": [
       "[(720575940630739501, 266),\n",
       " (720575940639616987, 206),\n",
       " (720575940628312684, 173),\n",
       " (720575940608155950, 172),\n",
       " (720575940614678587, 162),\n",
       " (720575940607152067, 159),\n",
       " (720575940610093810, 158),\n",
       " (720575940622144776, 158),\n",
       " (720575940645191812, 148),\n",
       " (720575940631102675, 138)]"
      ]
     },
     "execution_count": 19,
     "metadata": {},
     "output_type": "execute_result"
    }
   ],
   "source": [
    "u_post_root_ids, c_post_root_ids = np.unique(syn_df[\"post_pt_root_id\"], return_counts=True)\n",
    "\n",
    "sorting = np.argsort(c_post_root_ids)[::-1][:10]\n",
    "list(zip(u_post_root_ids[sorting], c_post_root_ids[sorting]))"
   ]
  },
  {
   "cell_type": "markdown",
   "metadata": {},
   "source": [
    "The main target is an AMMC-A1 (720575940613535430) which is a connection we described in Figure 6 in the FlyWire paper.\n",
    "\n",
    "We can further restrict the query by filtering the postsynaptic targets. For instance this query will only return the synapses between the these two root ids."
   ]
  },
  {
   "cell_type": "code",
   "execution_count": 20,
   "metadata": {},
   "outputs": [
    {
     "data": {
      "text/html": [
       "<div>\n",
       "<style scoped>\n",
       "    .dataframe tbody tr th:only-of-type {\n",
       "        vertical-align: middle;\n",
       "    }\n",
       "\n",
       "    .dataframe tbody tr th {\n",
       "        vertical-align: top;\n",
       "    }\n",
       "\n",
       "    .dataframe thead th {\n",
       "        text-align: right;\n",
       "    }\n",
       "</style>\n",
       "<table border=\"1\" class=\"dataframe\">\n",
       "  <thead>\n",
       "    <tr style=\"text-align: right;\">\n",
       "      <th></th>\n",
       "      <th>id</th>\n",
       "      <th>valid</th>\n",
       "      <th>pre_pt_supervoxel_id</th>\n",
       "      <th>pre_pt_root_id</th>\n",
       "      <th>post_pt_supervoxel_id</th>\n",
       "      <th>post_pt_root_id</th>\n",
       "      <th>connection_score</th>\n",
       "      <th>cleft_score</th>\n",
       "      <th>gaba</th>\n",
       "      <th>ach</th>\n",
       "      <th>glut</th>\n",
       "      <th>oct</th>\n",
       "      <th>ser</th>\n",
       "      <th>da</th>\n",
       "      <th>valid_nt</th>\n",
       "      <th>pre_pt_position</th>\n",
       "      <th>post_pt_position</th>\n",
       "    </tr>\n",
       "  </thead>\n",
       "  <tbody>\n",
       "    <tr>\n",
       "      <th>0</th>\n",
       "      <td>6162631</td>\n",
       "      <td>True</td>\n",
       "      <td>77761104918444158</td>\n",
       "      <td>720575940627197566</td>\n",
       "      <td>77761104918444188</td>\n",
       "      <td>720575940613535430</td>\n",
       "      <td>326.542755</td>\n",
       "      <td>102.0</td>\n",
       "      <td>0.147903</td>\n",
       "      <td>0.462820</td>\n",
       "      <td>0.375533</td>\n",
       "      <td>0.005401</td>\n",
       "      <td>0.001151</td>\n",
       "      <td>0.007191</td>\n",
       "      <td>True</td>\n",
       "      <td>[414712, 243344, 145120]</td>\n",
       "      <td>[414600, 243276, 145120]</td>\n",
       "    </tr>\n",
       "    <tr>\n",
       "      <th>1</th>\n",
       "      <td>6180240</td>\n",
       "      <td>True</td>\n",
       "      <td>77761173637894262</td>\n",
       "      <td>720575940627197566</td>\n",
       "      <td>77761173637888123</td>\n",
       "      <td>720575940613535430</td>\n",
       "      <td>227.389908</td>\n",
       "      <td>158.0</td>\n",
       "      <td>0.011852</td>\n",
       "      <td>0.966436</td>\n",
       "      <td>0.005491</td>\n",
       "      <td>0.002103</td>\n",
       "      <td>0.000580</td>\n",
       "      <td>0.013538</td>\n",
       "      <td>True</td>\n",
       "      <td>[414292, 245008, 144520]</td>\n",
       "      <td>[414160, 245016, 144520]</td>\n",
       "    </tr>\n",
       "    <tr>\n",
       "      <th>3</th>\n",
       "      <td>8180655</td>\n",
       "      <td>True</td>\n",
       "      <td>77761173637907153</td>\n",
       "      <td>720575940627197566</td>\n",
       "      <td>77761173637915205</td>\n",
       "      <td>720575940613535430</td>\n",
       "      <td>49.321461</td>\n",
       "      <td>176.0</td>\n",
       "      <td>0.016921</td>\n",
       "      <td>0.900563</td>\n",
       "      <td>0.015684</td>\n",
       "      <td>0.001348</td>\n",
       "      <td>0.005939</td>\n",
       "      <td>0.059545</td>\n",
       "      <td>True</td>\n",
       "      <td>[415680, 247148, 144920]</td>\n",
       "      <td>[415632, 247108, 145040]</td>\n",
       "    </tr>\n",
       "    <tr>\n",
       "      <th>4</th>\n",
       "      <td>40964236</td>\n",
       "      <td>True</td>\n",
       "      <td>77691492021634849</td>\n",
       "      <td>720575940627197566</td>\n",
       "      <td>77691492021615097</td>\n",
       "      <td>720575940613535430</td>\n",
       "      <td>7.644144</td>\n",
       "      <td>62.0</td>\n",
       "      <td>0.024671</td>\n",
       "      <td>0.912242</td>\n",
       "      <td>0.009162</td>\n",
       "      <td>0.000161</td>\n",
       "      <td>0.018725</td>\n",
       "      <td>0.035040</td>\n",
       "      <td>True</td>\n",
       "      <td>[412888, 286088, 130840]</td>\n",
       "      <td>[412960, 286024, 130840]</td>\n",
       "    </tr>\n",
       "    <tr>\n",
       "      <th>5</th>\n",
       "      <td>51374115</td>\n",
       "      <td>True</td>\n",
       "      <td>77691285729051546</td>\n",
       "      <td>720575940627197566</td>\n",
       "      <td>77691285729087258</td>\n",
       "      <td>720575940613535430</td>\n",
       "      <td>167.695801</td>\n",
       "      <td>106.0</td>\n",
       "      <td>0.025043</td>\n",
       "      <td>0.350947</td>\n",
       "      <td>0.025653</td>\n",
       "      <td>0.002037</td>\n",
       "      <td>0.509739</td>\n",
       "      <td>0.086582</td>\n",
       "      <td>True</td>\n",
       "      <td>[410048, 275336, 92480]</td>\n",
       "      <td>[410000, 275244, 92520]</td>\n",
       "    </tr>\n",
       "    <tr>\n",
       "      <th>...</th>\n",
       "      <td>...</td>\n",
       "      <td>...</td>\n",
       "      <td>...</td>\n",
       "      <td>...</td>\n",
       "      <td>...</td>\n",
       "      <td>...</td>\n",
       "      <td>...</td>\n",
       "      <td>...</td>\n",
       "      <td>...</td>\n",
       "      <td>...</td>\n",
       "      <td>...</td>\n",
       "      <td>...</td>\n",
       "      <td>...</td>\n",
       "      <td>...</td>\n",
       "      <td>...</td>\n",
       "      <td>...</td>\n",
       "      <td>...</td>\n",
       "    </tr>\n",
       "    <tr>\n",
       "      <th>121</th>\n",
       "      <td>236982393</td>\n",
       "      <td>True</td>\n",
       "      <td>77761585821126507</td>\n",
       "      <td>720575940627197566</td>\n",
       "      <td>77761585821131453</td>\n",
       "      <td>720575940613535430</td>\n",
       "      <td>476.344971</td>\n",
       "      <td>145.0</td>\n",
       "      <td>0.009036</td>\n",
       "      <td>0.962195</td>\n",
       "      <td>0.000537</td>\n",
       "      <td>0.000177</td>\n",
       "      <td>0.001508</td>\n",
       "      <td>0.026548</td>\n",
       "      <td>True</td>\n",
       "      <td>[415872, 269404, 120080]</td>\n",
       "      <td>[415864, 269284, 120040]</td>\n",
       "    </tr>\n",
       "    <tr>\n",
       "      <th>122</th>\n",
       "      <td>237434920</td>\n",
       "      <td>True</td>\n",
       "      <td>77832023284777092</td>\n",
       "      <td>720575940627197566</td>\n",
       "      <td>77832023284775770</td>\n",
       "      <td>720575940613535430</td>\n",
       "      <td>58.748398</td>\n",
       "      <td>144.0</td>\n",
       "      <td>0.032626</td>\n",
       "      <td>0.951942</td>\n",
       "      <td>0.001326</td>\n",
       "      <td>0.000276</td>\n",
       "      <td>0.000651</td>\n",
       "      <td>0.013178</td>\n",
       "      <td>True</td>\n",
       "      <td>[418172, 273748, 119600]</td>\n",
       "      <td>[418084, 273656, 119560]</td>\n",
       "    </tr>\n",
       "    <tr>\n",
       "      <th>123</th>\n",
       "      <td>237434941</td>\n",
       "      <td>True</td>\n",
       "      <td>77831954565287519</td>\n",
       "      <td>720575940627197566</td>\n",
       "      <td>77831954565292946</td>\n",
       "      <td>720575940613535430</td>\n",
       "      <td>37.415009</td>\n",
       "      <td>145.0</td>\n",
       "      <td>0.013553</td>\n",
       "      <td>0.776630</td>\n",
       "      <td>0.010634</td>\n",
       "      <td>0.002239</td>\n",
       "      <td>0.005292</td>\n",
       "      <td>0.191653</td>\n",
       "      <td>True</td>\n",
       "      <td>[417720, 272816, 119840]</td>\n",
       "      <td>[417708, 272892, 119880]</td>\n",
       "    </tr>\n",
       "    <tr>\n",
       "      <th>124</th>\n",
       "      <td>237434942</td>\n",
       "      <td>True</td>\n",
       "      <td>77832023284765928</td>\n",
       "      <td>720575940627197566</td>\n",
       "      <td>77832023284771485</td>\n",
       "      <td>720575940613535430</td>\n",
       "      <td>161.775467</td>\n",
       "      <td>141.0</td>\n",
       "      <td>0.023719</td>\n",
       "      <td>0.890757</td>\n",
       "      <td>0.013778</td>\n",
       "      <td>0.002228</td>\n",
       "      <td>0.019519</td>\n",
       "      <td>0.049999</td>\n",
       "      <td>True</td>\n",
       "      <td>[417900, 272952, 119880]</td>\n",
       "      <td>[417844, 273044, 119880]</td>\n",
       "    </tr>\n",
       "    <tr>\n",
       "      <th>125</th>\n",
       "      <td>237435004</td>\n",
       "      <td>True</td>\n",
       "      <td>77832023284778536</td>\n",
       "      <td>720575940627197566</td>\n",
       "      <td>77832023284792016</td>\n",
       "      <td>720575940613535430</td>\n",
       "      <td>91.194901</td>\n",
       "      <td>114.0</td>\n",
       "      <td>0.056194</td>\n",
       "      <td>0.560103</td>\n",
       "      <td>0.066058</td>\n",
       "      <td>0.014366</td>\n",
       "      <td>0.059227</td>\n",
       "      <td>0.244052</td>\n",
       "      <td>True</td>\n",
       "      <td>[419064, 274020, 120360]</td>\n",
       "      <td>[419164, 273968, 120400]</td>\n",
       "    </tr>\n",
       "  </tbody>\n",
       "</table>\n",
       "<p>96 rows × 17 columns</p>\n",
       "</div>"
      ],
      "text/plain": [
       "            id  valid  pre_pt_supervoxel_id      pre_pt_root_id  \\\n",
       "0      6162631   True     77761104918444158  720575940627197566   \n",
       "1      6180240   True     77761173637894262  720575940627197566   \n",
       "3      8180655   True     77761173637907153  720575940627197566   \n",
       "4     40964236   True     77691492021634849  720575940627197566   \n",
       "5     51374115   True     77691285729051546  720575940627197566   \n",
       "..         ...    ...                   ...                 ...   \n",
       "121  236982393   True     77761585821126507  720575940627197566   \n",
       "122  237434920   True     77832023284777092  720575940627197566   \n",
       "123  237434941   True     77831954565287519  720575940627197566   \n",
       "124  237434942   True     77832023284765928  720575940627197566   \n",
       "125  237435004   True     77832023284778536  720575940627197566   \n",
       "\n",
       "     post_pt_supervoxel_id     post_pt_root_id  connection_score  cleft_score  \\\n",
       "0        77761104918444188  720575940613535430        326.542755        102.0   \n",
       "1        77761173637888123  720575940613535430        227.389908        158.0   \n",
       "3        77761173637915205  720575940613535430         49.321461        176.0   \n",
       "4        77691492021615097  720575940613535430          7.644144         62.0   \n",
       "5        77691285729087258  720575940613535430        167.695801        106.0   \n",
       "..                     ...                 ...               ...          ...   \n",
       "121      77761585821131453  720575940613535430        476.344971        145.0   \n",
       "122      77832023284775770  720575940613535430         58.748398        144.0   \n",
       "123      77831954565292946  720575940613535430         37.415009        145.0   \n",
       "124      77832023284771485  720575940613535430        161.775467        141.0   \n",
       "125      77832023284792016  720575940613535430         91.194901        114.0   \n",
       "\n",
       "         gaba       ach      glut       oct       ser        da  valid_nt  \\\n",
       "0    0.147903  0.462820  0.375533  0.005401  0.001151  0.007191      True   \n",
       "1    0.011852  0.966436  0.005491  0.002103  0.000580  0.013538      True   \n",
       "3    0.016921  0.900563  0.015684  0.001348  0.005939  0.059545      True   \n",
       "4    0.024671  0.912242  0.009162  0.000161  0.018725  0.035040      True   \n",
       "5    0.025043  0.350947  0.025653  0.002037  0.509739  0.086582      True   \n",
       "..        ...       ...       ...       ...       ...       ...       ...   \n",
       "121  0.009036  0.962195  0.000537  0.000177  0.001508  0.026548      True   \n",
       "122  0.032626  0.951942  0.001326  0.000276  0.000651  0.013178      True   \n",
       "123  0.013553  0.776630  0.010634  0.002239  0.005292  0.191653      True   \n",
       "124  0.023719  0.890757  0.013778  0.002228  0.019519  0.049999      True   \n",
       "125  0.056194  0.560103  0.066058  0.014366  0.059227  0.244052      True   \n",
       "\n",
       "              pre_pt_position          post_pt_position  \n",
       "0    [414712, 243344, 145120]  [414600, 243276, 145120]  \n",
       "1    [414292, 245008, 144520]  [414160, 245016, 144520]  \n",
       "3    [415680, 247148, 144920]  [415632, 247108, 145040]  \n",
       "4    [412888, 286088, 130840]  [412960, 286024, 130840]  \n",
       "5     [410048, 275336, 92480]   [410000, 275244, 92520]  \n",
       "..                        ...                       ...  \n",
       "121  [415872, 269404, 120080]  [415864, 269284, 120040]  \n",
       "122  [418172, 273748, 119600]  [418084, 273656, 119560]  \n",
       "123  [417720, 272816, 119840]  [417708, 272892, 119880]  \n",
       "124  [417900, 272952, 119880]  [417844, 273044, 119880]  \n",
       "125  [419064, 274020, 120360]  [419164, 273968, 120400]  \n",
       "\n",
       "[96 rows x 17 columns]"
      ]
     },
     "execution_count": 20,
     "metadata": {},
     "output_type": "execute_result"
    }
   ],
   "source": [
    "syn_df = client.materialize.query_table(\"synapses_nt_v1\", materialization_version=15,\n",
    "                                        filter_in_dict={\"pre_pt_root_id\": [720575940627197566],\n",
    "                                                        \"post_pt_root_id\": [720575940613535430]})\n",
    "syn_df = syn_df[syn_df[\"cleft_score\"] >= 50]\n",
    "\n",
    "syn_df"
   ]
  },
  {
   "cell_type": "markdown",
   "metadata": {},
   "source": [
    "## Retrieving matching root ids\n",
    "\n",
    "Neuroglancer shows the most recent version of the segmentation by default. Neurons that have been updated since a materialized version are not included in a table of that version. To reconcile this, users need to look up root ids for their data with a timestamp. \n",
    "\n",
    "We generally recommend storing annotations as points in space as these can be mapped to root ids easily (that's basically what materialization is). Soon, users will be able to create their own annotation tables and CAVE will provide fitting root ids automatically. Still, use cases will arrive that require a mnual materialization by the user:\n",
    "\n",
    "\n",
    "### Programmatically\n",
    "\n",
    "The client has an interface to the chunkedgraph (see Section 5 in [the related tutorial](https://github.com/seung-lab/AnnotationFrameworkClient/blob/master/FrameworkClientExamples.ipynb) which allows users to query a root id for a given supervoxel id. Supervoxel ids can be retrieved from the segmentation using [cloudvolume](https://github.com/seung-lab/cloud-volume/).\n",
    "\n",
    "\n",
    "### Neuroglancer\n",
    "\n",
    "The segmentation layer has an option under the tab \"graph\" to lock a layer to a specific timestamps. Then, root ids are looked up with this specific timestamp (proofreading is not possible in this mode). Be aware that this mode does not prevent the pasting of root ids from different timestamps into the layer as that circumvents the lookup to the server."
   ]
  },
  {
   "cell_type": "markdown",
   "metadata": {},
   "source": [
    "### Timestamps\n",
    "\n",
    "Timestamps are _always_ UTC. \n",
    "\n",
    "Please be aware that the package or browser you are using might format timestamps in your local timezone. The timestamp for all annotation tables within a materialization are the same:"
   ]
  },
  {
   "cell_type": "code",
   "execution_count": 21,
   "metadata": {},
   "outputs": [
    {
     "data": {
      "text/plain": [
       "{'datastack': 'flywire_fafb_production',\n",
       " 'version': 27,\n",
       " 'expires_on': '2021-04-26T08:10:00.253566',\n",
       " 'id': 15,\n",
       " 'valid': True,\n",
       " 'time_stamp': '2021-04-19T08:10:00.253566'}"
      ]
     },
     "execution_count": 21,
     "metadata": {},
     "output_type": "execute_result"
    }
   ],
   "source": [
    "client.materialize.get_version_metadata(27)"
   ]
  },
  {
   "cell_type": "markdown",
   "metadata": {},
   "source": [
    "## Creating neuroglancer links programmatically\n",
    "\n",
    "We are building infrastructure into neuroglancer to display this information there while browsing neurons. Until this is ready, the most convenient way to visualize this information in neuroglancer is to programmatically create neuroglancer state and to upload them to the state server. The links can then be distributed. \n",
    "\n",
    "[NeuroglancerAnnotationUI (nglui)](https://github.com/seung-lab/NeuroglancerAnnotationUI)  makes programmatic creation of neuroglancer states convenient. The [statebuilder examples](https://github.com/seung-lab/NeuroglancerAnnotationUI/blob/master/examples/statebuilder_examples.ipynb) shows how one can directly from dataframes as the one above to neuroglancer states. The [related tutorial on this client](https://github.com/seung-lab/AnnotationFrameworkClient/blob/master/FrameworkClientExamples.ipynb) shows under \"4. JSON Service\" how this client can be used to upload states to the server and to create neuroglancer links.\n"
   ]
  },
  {
   "cell_type": "markdown",
   "metadata": {},
   "source": [
    "## Further references\n",
    "\n",
    "\n",
    "More examples for the usage of CAVE can be found in a related project:\n",
    "\n",
    "https://github.com/AllenInstitute/MicronsBinder\n",
    "\n",
    "A rough overview of the structure of our backend services can be found here:\n",
    "\n",
    "https://github.com/seung-lab/AnnotationPipelineOverview"
   ]
  },
  {
   "cell_type": "markdown",
   "metadata": {},
   "source": [
    "## Credit\n",
    "\n",
    "CAVE is developed at Princeton University and the Allen Institute for Brain Science within the iarpa MICrONs project and the FlyWire project. Main contributors to the design and backend development \n",
    "are Derrick Brittain, Forrest Collman, Sven Dorkenwald, Chris Jordan, Casey Schneider-Mizell\n",
    "\n",
    "A citable publication is in the works. Please contact us if you are interested in using CAVE on another dataset. "
   ]
  }
 ],
 "metadata": {
  "kernelspec": {
   "display_name": "Python 3",
   "language": "python",
   "name": "python3"
  },
  "language_info": {
   "codemirror_mode": {
    "name": "ipython",
    "version": 3
   },
   "file_extension": ".py",
   "mimetype": "text/x-python",
   "name": "python",
   "nbconvert_exporter": "python",
   "pygments_lexer": "ipython3",
   "version": "3.7.6"
  }
 },
 "nbformat": 4,
 "nbformat_minor": 5
}
